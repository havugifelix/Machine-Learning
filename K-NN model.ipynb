{
 "cells": [
  {
   "cell_type": "code",
   "execution_count": 24,
   "metadata": {},
   "outputs": [],
   "source": [
    "#Importing required libraries\n",
    "import pandas as pd\n",
    "import numpy as np\n",
    "from sklearn.model_selection import train_test_split\n",
    "df= pd.read_csv('german.data-numeric.csv')\n",
    "from sklearn.tree.export import export_graphviz\n",
    "X= df.drop(columns=\"C\")\n",
    "Y=df[\"C\"]"
   ]
  },
  {
   "cell_type": "markdown",
   "metadata": {},
   "source": [
    "## Splitting data into training and testing dataset\n",
    "#### We split with sk learn building function train_test_split"
   ]
  },
  {
   "cell_type": "code",
   "execution_count": 29,
   "metadata": {},
   "outputs": [],
   "source": [
    "\n",
    "#split dataset into train and test data\n",
    "X_train, X_test, y_train, y_test = train_test_split(X, Y, test_size=0.2, random_state=1, stratify=Y)\n"
   ]
  },
  {
   "cell_type": "markdown",
   "metadata": {},
   "source": [
    "## Fitting our data to a classifier, we fit train our model on different values of K(number of nearest neighbors"
   ]
  },
  {
   "cell_type": "code",
   "execution_count": 42,
   "metadata": {},
   "outputs": [
    {
     "name": "stdout",
     "output_type": "stream",
     "text": [
      "Val_scoreS for k=1: [0.625      0.671875   0.69270833 0.64583333 0.62827225]\n",
      "Mean val score for k=1: 0.6527377835951136\n",
      "\n",
      "Val_scoreS for k=3: [0.65104167 0.734375   0.72916667 0.671875   0.69109948]\n",
      "Mean val score for k=3: 0.6955115619546247\n",
      "\n",
      "Val_scoreS for k=5: [0.671875   0.6875     0.74479167 0.67708333 0.70157068]\n",
      "Mean val score for k=5: 0.6965641361256545\n"
     ]
    }
   ],
   "source": [
    "from sklearn.model_selection import cross_val_score\n",
    "import numpy as np\n",
    "#create a new KNN model\n",
    "knn1= KNeighborsClassifier(n_neighbors=1)\n",
    "knn3= KNeighborsClassifier(n_neighbors=3)\n",
    "knn5= KNeighborsClassifier(n_neighbors=5)\n",
    "\n",
    "#train model with cv of 5 \n",
    "val_scores1 = cross_val_score(knn1, X, Y, cv=5)\n",
    "val_scores3 = cross_val_score(knn3, X, Y, cv=5)\n",
    "val_scores5 = cross_val_score(knn5, X, Y, cv=5)\n",
    "\n",
    "#print each cv score (accuracy) and average them\n",
    "print(\"Val_scoreS for k=1:\", val_scores1)\n",
    "print(\"Mean val score for k=1:\",np.mean(val_scores1))\n",
    "print(\"\\nVal_scoreS for k=3:\", val_scores3)\n",
    "print(\"Mean val score for k=3:\",np.mean(val_scores3))\n",
    "print(\"\\nVal_scoreS for k=5:\", val_scores5)\n",
    "print(\"Mean val score for k=5:\",np.mean(val_scores5))"
   ]
  },
  {
   "cell_type": "markdown",
   "metadata": {},
   "source": [
    "## Dimension Reduction\n",
    "#### To reduce the dimension we use function selectbest and train the model again for 10,15 and 20 best features and 5-fold cross-validation"
   ]
  },
  {
   "cell_type": "code",
   "execution_count": 52,
   "metadata": {},
   "outputs": [
    {
     "name": "stdout",
     "output_type": "stream",
     "text": [
      "Val_scoreS with  10 best features: [0.671875   0.70833333 0.72916667 0.66145833 0.68586387]\n",
      "Mean val score with 10 best features : 0.6913394415357766\n",
      "\n",
      "Val_scoreS with  15 best features: [0.66666667 0.71354167 0.75520833 0.671875   0.70157068]\n",
      "Mean val score with 15 best features : 0.7017724694589877\n",
      "\n",
      "Val_scoreS with  20 best features: [0.68229167 0.69270833 0.74479167 0.671875   0.69633508]\n",
      "Mean val score with 20 best features : 0.6976003490401397\n"
     ]
    }
   ],
   "source": [
    "from sklearn.feature_selection import SelectKBest, chi2\n",
    "\n",
    "## different values of k will be used to select k best features\n",
    "X_new_k10= SelectKBest(chi2, k=10).fit_transform(X, Y)\n",
    "X_new_k15=SelectKBest(chi2, k=15).fit_transform(X, Y)\n",
    "X_new_k20=SelectKBest(chi2, k=20).fit_transform(X, Y)\n",
    "\n",
    "## We train our model for our three different new datasets\n",
    "val_scores10 = cross_val_score(knn5, X_new_k10, Y, cv=5)\n",
    "val_scores15 = cross_val_score(knn5, X_new_k15, Y, cv=5)\n",
    "val_scores20= cross_val_score(knn5, X_new_k20, Y, cv=5)\n",
    "print(\"Val_scoreS with  10 best features:\", val_scores10)\n",
    "print(\"Mean val score with 10 best features :\",np.mean(val_scores10))\n",
    "print(\"\\nVal_scoreS with  15 best features:\", val_scores15)\n",
    "print(\"Mean val score with 15 best features :\",np.mean(val_scores15))\n",
    "print(\"\\nVal_scoreS with  20 best features:\", val_scores20)\n",
    "print(\"Mean val score with 20 best features :\",np.mean(val_scores20))\n"
   ]
  },
  {
   "cell_type": "markdown",
   "metadata": {},
   "source": [
    "## Testing our model"
   ]
  }
 ],
 "metadata": {
  "kernelspec": {
   "display_name": "Python 3",
   "language": "python",
   "name": "python3"
  },
  "language_info": {
   "codemirror_mode": {
    "name": "ipython",
    "version": 3
   },
   "file_extension": ".py",
   "mimetype": "text/x-python",
   "name": "python",
   "nbconvert_exporter": "python",
   "pygments_lexer": "ipython3",
   "version": "3.7.6"
  }
 },
 "nbformat": 4,
 "nbformat_minor": 2
}
